{
 "cells": [
  {
   "cell_type": "code",
   "execution_count": 1,
   "metadata": {
    "executionInfo": {
     "elapsed": 9,
     "status": "ok",
     "timestamp": 1748935846146,
     "user": {
      "displayName": "Chiu Don",
      "userId": "10237937896367434430"
     },
     "user_tz": 420
    },
    "id": "vHFyKK7YeJMB"
   },
   "outputs": [],
   "source": [
    "DRIVE_ROOT_PATH = '/content/drive/MyDrive'\n",
    "RLCCSAM_ROOT_PATH = f\"{DRIVE_ROOT_PATH}/RL-CC-SAM\""
   ]
  },
  {
   "cell_type": "code",
   "execution_count": null,
   "metadata": {
    "colab": {
     "base_uri": "https://localhost:8080/"
    },
    "executionInfo": {
     "elapsed": 20175,
     "status": "ok",
     "timestamp": 1748935868579,
     "user": {
      "displayName": "Chiu Don",
      "userId": "10237937896367434430"
     },
     "user_tz": 420
    },
    "id": "VgvGInDcsmnT",
    "outputId": "ac577233-6ce9-4d19-8bf3-4188e2fd941b"
   },
   "outputs": [],
   "source": [
    "from google.colab import drive\n",
    "drive.mount(\"/content/drive\")"
   ]
  },
  {
   "cell_type": "code",
   "execution_count": null,
   "metadata": {
    "colab": {
     "base_uri": "https://localhost:8080/"
    },
    "executionInfo": {
     "elapsed": 988,
     "status": "ok",
     "timestamp": 1748935871673,
     "user": {
      "displayName": "Chiu Don",
      "userId": "10237937896367434430"
     },
     "user_tz": 420
    },
    "id": "wJ5gyERTrTa2",
    "outputId": "f5e1540b-8372-4bb0-941f-fd3a3ead7797"
   },
   "outputs": [],
   "source": [
    "import os\n",
    "os.chdir(RLCCSAM_ROOT_PATH)\n",
    "!echo `pwd`"
   ]
  },
  {
   "cell_type": "code",
   "execution_count": null,
   "metadata": {
    "colab": {
     "base_uri": "https://localhost:8080/"
    },
    "executionInfo": {
     "elapsed": 97137,
     "status": "ok",
     "timestamp": 1748936031791,
     "user": {
      "displayName": "Chiu Don",
      "userId": "10237937896367434430"
     },
     "user_tz": 420
    },
    "id": "_SkOML7kr774",
    "outputId": "17d98e51-f7b3-4586-d98b-51bd3b41cab9"
   },
   "outputs": [],
   "source": [
    "!git pull\n",
    "!git add notebooks/setup_colab.ipynb\n",
    "!git add notebooks/git.ipynb"
   ]
  },
  {
   "cell_type": "code",
   "execution_count": 12,
   "metadata": {
    "executionInfo": {
     "elapsed": 273,
     "status": "ok",
     "timestamp": 1748936524438,
     "user": {
      "displayName": "Chiu Don",
      "userId": "10237937896367434430"
     },
     "user_tz": 420
    },
    "id": "xzsdDCBOtjua"
   },
   "outputs": [],
   "source": [
    "!git config --global user.email godspeed1024@hotmail.com\n",
    "!git config --global user.email chenqiu1024\n",
    "!git commit -am \"for Google Colab\""
   ]
  },
  {
   "cell_type": "code",
   "execution_count": null,
   "metadata": {
    "colab": {
     "base_uri": "https://localhost:8080/"
    },
    "executionInfo": {
     "elapsed": 412,
     "status": "ok",
     "timestamp": 1748936586159,
     "user": {
      "displayName": "Chiu Don",
      "userId": "10237937896367434430"
     },
     "user_tz": 420
    },
    "id": "Nx2Wrujwts9j",
    "outputId": "d452c1cb-7ca4-4bed-f237-fe7cc0fdaa2f"
   },
   "outputs": [],
   "source": [
    "import getpass\n",
    "token = getpass.getpass(\"GITHUB_TOKEN_HERE\")\n",
    "!git push -u origin main"
   ]
  },
  {
   "cell_type": "markdown",
   "metadata": {
    "id": "g_O1r38RuoUs"
   },
   "source": [
    "!"
   ]
  },
  {
   "cell_type": "code",
   "execution_count": null,
   "metadata": {
    "colab": {
     "background_save": true,
     "base_uri": "https://localhost:8080/",
     "output_embedded_package_id": "1Rl7vtSxjFPXYeQZQlPs4KZdq5lYgCDmZ"
    },
    "id": "BCtjeCzfucDS",
    "outputId": "f1e81311-045b-4726-b1f4-a1e8b8fd9706"
   },
   "outputs": [],
   "source": [
    "!git show HEAD"
   ]
  }
 ],
 "metadata": {
  "accelerator": "GPU",
  "colab": {
   "gpuType": "T4",
   "machine_shape": "hm",
   "name": "",
   "version": ""
  },
  "kernelspec": {
   "display_name": "Python 3",
   "name": "python3"
  },
  "language_info": {
   "name": "python"
  }
 },
 "nbformat": 4,
 "nbformat_minor": 0
}
